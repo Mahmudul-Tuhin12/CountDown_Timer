{
  "nbformat": 4,
  "nbformat_minor": 0,
  "metadata": {
    "colab": {
      "provenance": []
    },
    "kernelspec": {
      "name": "python3",
      "display_name": "Python 3"
    },
    "language_info": {
      "name": "python"
    }
  },
  "cells": [
    {
      "cell_type": "code",
      "execution_count": 1,
      "metadata": {
        "colab": {
          "base_uri": "https://localhost:8080/"
        },
        "id": "jXGctb3vuQwk",
        "outputId": "13972993-6c53-4fc0-c2ea-bf55b3d1543e"
      },
      "outputs": [
        {
          "output_type": "stream",
          "name": "stdout",
          "text": [
            "Enter the countdown time in seconds: 5\n",
            "Time remaining: 5 seconds\n",
            "Time remaining: 4 seconds\n",
            "Time remaining: 3 seconds\n",
            "Time remaining: 2 seconds\n",
            "Time remaining: 1 seconds\n",
            "Time's up!\n"
          ]
        }
      ],
      "source": [
        "import time\n",
        "\n",
        "# Define the countdown time in seconds\n",
        "\n",
        "countdown_time = input(\"Enter the countdown time in seconds: \")\n",
        "\n",
        "# Convert the input to an integer\n",
        "\n",
        "countdown_time = int(countdown_time)\n",
        "\n",
        "# Start the countdown\n",
        "\n",
        "while countdown_time > 0:\n",
        "    print(\"Time remaining: {} seconds\".format(countdown_time))\n",
        "    time.sleep(1)\n",
        "    countdown_time -= 1\n",
        "\n",
        "# Countdown has ended\n",
        "\n",
        "print(\"Time's up!\")"
      ]
    }
  ]
}